{
 "cells": [
  {
   "cell_type": "code",
   "execution_count": 1,
   "metadata": {},
   "outputs": [],
   "source": [
    "#importing dependency\n",
    "import os"
   ]
  },
  {
   "cell_type": "code",
   "execution_count": 2,
   "metadata": {},
   "outputs": [],
   "source": [
    "file = \"./Resources/election_data.csv\""
   ]
  },
  {
   "cell_type": "code",
   "execution_count": 6,
   "metadata": {},
   "outputs": [],
   "source": [
    "poll_data = []"
   ]
  },
  {
   "cell_type": "code",
   "execution_count": 7,
   "metadata": {},
   "outputs": [],
   "source": [
    "with open(file, \"r\") as io:\n",
    "    filetext = io.read()\n",
    "    rows = filetext.split(\"\\n\")\n",
    "    for row in rows:\n",
    "        poll_data.append(row.split(\",\"))\n",
    "    "
   ]
  },
  {
   "cell_type": "code",
   "execution_count": 11,
   "metadata": {},
   "outputs": [],
   "source": [
    "header = poll_data.pop(0)"
   ]
  },
  {
   "cell_type": "code",
   "execution_count": 12,
   "metadata": {},
   "outputs": [
    {
     "name": "stdout",
     "output_type": "stream",
     "text": [
      "['Voter ID', 'County', 'Candidate']\n"
     ]
    }
   ],
   "source": [
    "print(header)"
   ]
  },
  {
   "cell_type": "code",
   "execution_count": 16,
   "metadata": {},
   "outputs": [],
   "source": [
    "def print_head(ls, num = 5):\n",
    "    for i in range(num):\n",
    "        print(ls[i])"
   ]
  },
  {
   "cell_type": "code",
   "execution_count": 17,
   "metadata": {},
   "outputs": [],
   "source": [
    "index = len(poll_data) -1\n",
    "while index >= 0:\n",
    "    if len(poll_data[index])!=3:\n",
    "        poll_data.pop(index)\n",
    "    index -= 1"
   ]
  },
  {
   "cell_type": "code",
   "execution_count": 65,
   "metadata": {},
   "outputs": [],
   "source": [
    "candidates = []\n",
    "vote_counts = []\n",
    "for row in poll_data:\n",
    "    voter_id = row[0]\n",
    "    county = row[1]\n",
    "    candidate = row[2]\n",
    "    \n",
    "    try:\n",
    "        i = candidates.index(candidate)\n",
    "        vote_counts[i] += 1\n",
    "    except:\n",
    "        candidates.append(candidate)\n",
    "        vote_counts.append(1)\n",
    "        "
   ]
  },
  {
   "cell_type": "code",
   "execution_count": 66,
   "metadata": {},
   "outputs": [],
   "source": [
    "total_votes = sum(vote_counts)"
   ]
  },
  {
   "cell_type": "code",
   "execution_count": 67,
   "metadata": {},
   "outputs": [],
   "source": [
    "percentages = []\n",
    "for count in vote_counts:\n",
    "    percentage = format(100*count/total_votes, \".3f\")\n",
    "    percentages.append(percentage)"
   ]
  },
  {
   "cell_type": "code",
   "execution_count": 68,
   "metadata": {},
   "outputs": [
    {
     "name": "stdout",
     "output_type": "stream",
     "text": [
      "Khan\n"
     ]
    }
   ],
   "source": [
    "running_arg_max = 0\n",
    "running_max = vote_counts[0]\n",
    "for i,v in enumerate(vote_counts):\n",
    "    if running_max < v:\n",
    "        running_max = v\n",
    "        runnin_arg_max = i\n",
    "winner = candidates[running_arg_max]\n",
    "print(winner)"
   ]
  },
  {
   "cell_type": "code",
   "execution_count": 69,
   "metadata": {},
   "outputs": [],
   "source": [
    "report_string = \"Election Results \\n\"\n",
    "report_string += f\"{'-'*20}\\n\"\\\n",
    "f\"Total Votes: {total_votes}\\n\"\\\n",
    "f\"{'-'*20}\"\n",
    "for i, v in enumerate(candidates):\n",
    "    report_string += f\"\\n{v}: {percentages[i]}% ({vote_counts[i]})\"\n",
    "report_string += f\"\\n{'-'*20}\"\\\n",
    "f\"\\nWinner: {winner}\"\\\n",
    "f\"\\n{'-'*20}\""
   ]
  },
  {
   "cell_type": "code",
   "execution_count": 70,
   "metadata": {},
   "outputs": [
    {
     "name": "stdout",
     "output_type": "stream",
     "text": [
      "Election Results \n",
      "--------------------\n",
      "Total Votes: 3521001\n",
      "--------------------\n",
      "Khan: 63.000% (2218231)\n",
      "Correy: 20.000% (704200)\n",
      "Li: 14.000% (492940)\n",
      "O'Tooley: 3.000% (105630)\n",
      "--------------------\n",
      "Winner: Khan\n",
      "--------------------\n"
     ]
    }
   ],
   "source": [
    "print(report_string)"
   ]
  },
  {
   "cell_type": "code",
   "execution_count": null,
   "metadata": {},
   "outputs": [],
   "source": []
  }
 ],
 "metadata": {
  "kernelspec": {
   "display_name": "'Python Interactive'",
   "language": "python",
   "name": "15f108f3-5bc3-4783-89a4-11e07db949ed"
  },
  "language_info": {
   "codemirror_mode": {
    "name": "ipython",
    "version": 3
   },
   "file_extension": ".py",
   "mimetype": "text/x-python",
   "name": "python",
   "nbconvert_exporter": "python",
   "pygments_lexer": "ipython3",
   "version": "3.7.4"
  }
 },
 "nbformat": 4,
 "nbformat_minor": 4
}
