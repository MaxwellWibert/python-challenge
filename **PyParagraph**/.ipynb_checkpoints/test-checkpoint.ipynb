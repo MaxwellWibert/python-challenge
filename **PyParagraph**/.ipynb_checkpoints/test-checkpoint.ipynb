{
 "cells": [
  {
   "cell_type": "code",
   "execution_count": 1,
   "metadata": {},
   "outputs": [],
   "source": [
    "import os\n",
    "import re"
   ]
  },
  {
   "cell_type": "code",
   "execution_count": 2,
   "metadata": {},
   "outputs": [],
   "source": [
    "resource_path = \"./Resources\"\n",
    "extension = \".txt\""
   ]
  },
  {
   "cell_type": "code",
   "execution_count": 3,
   "metadata": {},
   "outputs": [],
   "source": [
    "def text(file):\n",
    "    file_text = \"\"\n",
    "    with open(file, \"r\") as io:\n",
    "        file_text = io.read()\n",
    "    io.close()\n",
    "    return file_text"
   ]
  },
  {
   "cell_type": "code",
   "execution_count": 4,
   "metadata": {},
   "outputs": [],
   "source": [
    "def word_count(txt):\n",
    "    words = re.split(\"[-\\s]\",txt)\n",
    "    return len(words)"
   ]
  },
  {
   "cell_type": "code",
   "execution_count": 5,
   "metadata": {},
   "outputs": [],
   "source": [
    "def letter_count(txt):\n",
    "    letters = re.findall(\"[a-zA-Z]\",txt)\n",
    "    return len(letters)"
   ]
  },
  {
   "cell_type": "code",
   "execution_count": 6,
   "metadata": {},
   "outputs": [],
   "source": [
    "def sentence_count(txt):\n",
    "    sentences = re.split(\"[.?!]+\",txt)\n",
    "    sentences.pop()\n",
    "    return len(sentences)"
   ]
  },
  {
   "cell_type": "code",
   "execution_count": 7,
   "metadata": {},
   "outputs": [],
   "source": [
    "def report_text(txt):\n",
    "    lcount = letter_count(txt)\n",
    "    wcount = word_count(txt)\n",
    "    scount = sentence_count(txt)\n",
    "    print(\"Paragraph Analysis\")\n",
    "    print(\"-\"*20)\n",
    "    print(f\"Approx. Word Count: {wcount}\")\n",
    "    print(f\"Approx. Sentence Count: {scount}\")\n",
    "    print(f\"Average Word Length (letters): {format(lcount/wcount, '.1f')}\")\n",
    "    print(f\"Average Sentence Length (words): {format(wcount/scount, '.1f')}\")"
   ]
  },
  {
   "cell_type": "code",
   "execution_count": 8,
   "metadata": {},
   "outputs": [
    {
     "name": "stdin",
     "output_type": "stream",
     "text": [
      "Please enter the name of a resource file (eg. paragraph_1) paragraph_1\n"
     ]
    }
   ],
   "source": [
    "validFile = False\n",
    "txt = \"\"\n",
    "while not validFile:\n",
    "    file_name = input(\"Please enter the name of a resource file (eg. paragraph_1)\")\n",
    "    file = os.path.join(resource_path, file_name + extension)\n",
    "    try:\n",
    "        with open(file,\"r\") as io:\n",
    "            txt = io.read()\n",
    "        io.close()\n",
    "    except:\n",
    "        txt = \"\"\n",
    "        print(\"File not found: Please check file name and try again.\")\n",
    "    else:\n",
    "        validFile = True\n",
    "    "
   ]
  },
  {
   "cell_type": "code",
   "execution_count": 9,
   "metadata": {},
   "outputs": [
    {
     "name": "stdout",
     "output_type": "stream",
     "text": [
      "Paragraph Analysis\n",
      "--------------------\n",
      "Approx. Word Count: 132\n",
      "Approx. Sentence Count: 5\n",
      "Average Word Length (letters): 6.2\n",
      "Average Sentence Length (words): 26.4\n"
     ]
    }
   ],
   "source": [
    "report_text(txt)\n"
   ]
  },
  {
   "cell_type": "code",
   "execution_count": null,
   "metadata": {},
   "outputs": [],
   "source": []
  }
 ],
 "metadata": {
  "kernelspec": {
   "display_name": "'Python Interactive'",
   "language": "python",
   "name": "15f108f3-5bc3-4783-89a4-11e07db949ed"
  },
  "language_info": {
   "codemirror_mode": {
    "name": "ipython",
    "version": 3
   },
   "file_extension": ".py",
   "mimetype": "text/x-python",
   "name": "python",
   "nbconvert_exporter": "python",
   "pygments_lexer": "ipython3",
   "version": "3.7.4"
  }
 },
 "nbformat": 4,
 "nbformat_minor": 4
}
