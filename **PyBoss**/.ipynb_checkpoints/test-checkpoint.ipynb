{
 "cells": [
  {
   "cell_type": "code",
   "execution_count": 12,
   "metadata": {},
   "outputs": [],
   "source": [
    "import os\n",
    "us_state_abbrev = {\n",
    "    'Alabama': 'AL',\n",
    "    'Alaska': 'AK',\n",
    "    'Arizona': 'AZ',\n",
    "    'Arkansas': 'AR',\n",
    "    'California': 'CA',\n",
    "    'Colorado': 'CO',\n",
    "    'Connecticut': 'CT',\n",
    "    'Delaware': 'DE',\n",
    "    'Florida': 'FL',\n",
    "    'Georgia': 'GA',\n",
    "    'Hawaii': 'HI',\n",
    "    'Idaho': 'ID',\n",
    "    'Illinois': 'IL',\n",
    "    'Indiana': 'IN',\n",
    "    'Iowa': 'IA',\n",
    "    'Kansas': 'KS',\n",
    "    'Kentucky': 'KY',\n",
    "    'Louisiana': 'LA',\n",
    "    'Maine': 'ME',\n",
    "    'Maryland': 'MD',\n",
    "    'Massachusetts': 'MA',\n",
    "    'Michigan': 'MI',\n",
    "    'Minnesota': 'MN',\n",
    "    'Mississippi': 'MS',\n",
    "    'Missouri': 'MO',\n",
    "    'Montana': 'MT',\n",
    "    'Nebraska': 'NE',\n",
    "    'Nevada': 'NV',\n",
    "    'New Hampshire': 'NH',\n",
    "    'New Jersey': 'NJ',\n",
    "    'New Mexico': 'NM',\n",
    "    'New York': 'NY',\n",
    "    'North Carolina': 'NC',\n",
    "    'North Dakota': 'ND',\n",
    "    'Ohio': 'OH',\n",
    "    'Oklahoma': 'OK',\n",
    "    'Oregon': 'OR',\n",
    "    'Pennsylvania': 'PA',\n",
    "    'Rhode Island': 'RI',\n",
    "    'South Carolina': 'SC',\n",
    "    'South Dakota': 'SD',\n",
    "    'Tennessee': 'TN',\n",
    "    'Texas': 'TX',\n",
    "    'Utah': 'UT',\n",
    "    'Vermont': 'VT',\n",
    "    'Virginia': 'VA',\n",
    "    'Washington': 'WA',\n",
    "    'West Virginia': 'WV',\n",
    "    'Wisconsin': 'WI',\n",
    "    'Wyoming': 'WY',\n",
    "}"
   ]
  },
  {
   "cell_type": "code",
   "execution_count": 2,
   "metadata": {},
   "outputs": [],
   "source": [
    "file = \"./Resources/employee_data.csv\""
   ]
  },
  {
   "cell_type": "code",
   "execution_count": 4,
   "metadata": {},
   "outputs": [],
   "source": [
    "table = []\n",
    "with open(file, \"r\") as io:\n",
    "    file_text = io.read()\n",
    "    rows = file_text.split(\"\\n\")\n",
    "    for row in rows:\n",
    "        data = row.split(\",\")\n",
    "        if len(data) == 5:\n",
    "            table.append(data)"
   ]
  },
  {
   "cell_type": "code",
   "execution_count": 6,
   "metadata": {},
   "outputs": [],
   "source": [
    "header = table.pop(0)"
   ]
  },
  {
   "cell_type": "code",
   "execution_count": 24,
   "metadata": {},
   "outputs": [],
   "source": [
    "new_table = []\n",
    "new_table.append([\"ID\", \"First Name\", \"Last Name\", \"DOB\", \"SSN\", \"State\"])\n",
    "for row in table:\n",
    "    new_row = []\n",
    "    \n",
    "    new_row.append(row[0])\n",
    "    \n",
    "    name = row[1].split(\" \")\n",
    "    new_row += name\n",
    "    \n",
    "    DOB = row[2]\n",
    "    new_DOB = \"/\".join(DOB.split(\"-\"))\n",
    "    new_row.append(new_DOB)\n",
    "    \n",
    "    SSN = row[3]\n",
    "    new_SSN = f\"***-**-{SSN[-4:]}\"\n",
    "    new_row.append(new_SSN)\n",
    "    \n",
    "    state = row[4]\n",
    "    new_state =us_state_abbrev[state]\n",
    "    new_row.append(new_state)\n",
    "    \n",
    "    new_table.append(new_row)"
   ]
  },
  {
   "cell_type": "code",
   "execution_count": 25,
   "metadata": {},
   "outputs": [
    {
     "name": "stdout",
     "output_type": "stream",
     "text": [
      "['ID', 'First Name', 'Last Name', 'DOB', 'SSN', 'State']\n",
      "['232', 'John', 'Mathews', '1991/02/24', '***-**-9165', 'ND']\n",
      "['533', 'Nathan', 'Moore', '1978/11/19', '***-**-7469', 'ME']\n",
      "['256', 'Amanda', 'Douglas', '1990/01/08', '***-**-6961', 'ID']\n",
      "['189', 'Heather', 'Andrews', '1976/08/11', '***-**-1797', 'VT']\n",
      "['284', 'Daniel', 'Hernandez', '1976/07/22', '***-**-7473', 'CO']\n",
      "['512', 'Danny', 'Pena', '1978/01/31', '***-**-9878', 'MN']\n",
      "['126', 'Gary', 'Knight', '1994/03/08', '***-**-1242', 'AR']\n",
      "['556', 'Robin', 'Carroll', '1972/10/14', '***-**-7194', 'CA']\n",
      "['595', 'Michelle', 'Dickerson', '1984/02/08', '***-**-2817', 'TN']\n"
     ]
    }
   ],
   "source": [
    "for i in range(10):\n",
    "    print(new_table[i])"
   ]
  },
  {
   "cell_type": "code",
   "execution_count": 26,
   "metadata": {},
   "outputs": [],
   "source": [
    "new_rows = []\n",
    "for row in new_table:\n",
    "    new_rows.append(\",\".join(row))\n",
    "results_string = \"\\n\".join(new_rows)\n",
    "with open(\"results.csv\", \"w\") as results:\n",
    "    results.write(results_string)\n",
    "\n"
   ]
  },
  {
   "cell_type": "code",
   "execution_count": null,
   "metadata": {},
   "outputs": [],
   "source": []
  }
 ],
 "metadata": {
  "kernelspec": {
   "display_name": "'Python Interactive'",
   "language": "python",
   "name": "15f108f3-5bc3-4783-89a4-11e07db949ed"
  },
  "language_info": {
   "codemirror_mode": {
    "name": "ipython",
    "version": 3
   },
   "file_extension": ".py",
   "mimetype": "text/x-python",
   "name": "python",
   "nbconvert_exporter": "python",
   "pygments_lexer": "ipython3",
   "version": "3.7.4"
  }
 },
 "nbformat": 4,
 "nbformat_minor": 4
}
